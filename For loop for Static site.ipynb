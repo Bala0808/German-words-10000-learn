{
 "cells": [
  {
   "cell_type": "code",
   "execution_count": 6,
   "id": "95c6083d",
   "metadata": {
    "ExecutionTime": {
     "end_time": "2022-02-17T12:19:04.133414Z",
     "start_time": "2022-02-17T12:19:04.127416Z"
    },
    "provenance": [
     {
      "end_time": "Unknown",
      "execution_time": "Unknown",
      "outputs": [],
      "source": "",
      "start_time": "Unknown"
     },
     {
      "end_time": "2022-02-16T00:49:27.915Z",
      "execution_time": "27ms",
      "outputs": [
       {
        "ename": "SyntaxError",
        "evalue": "invalid syntax (2085931094.py, line 2)",
        "output_type": "error",
        "traceback": [
         "\u001b[0;36m  File \u001b[0;32m\"/tmp/ipykernel_6436/2085931094.py\"\u001b[0;36m, line \u001b[0;32m2\u001b[0m\n\u001b[0;31m    <a>: <A>,\u001b[0m\n\u001b[0m    ^\u001b[0m\n\u001b[0;31mSyntaxError\u001b[0m\u001b[0;31m:\u001b[0m invalid syntax\n"
        ]
       }
      ],
      "source": "d = {\n    <a>: <A>,\n    <b>: <B>,\n    <c>: <C>\n}",
      "start_time": "2022-02-16T00:49:27.888Z"
     },
     {
      "end_time": "2022-02-16T00:49:45.729Z",
      "execution_time": "124ms",
      "outputs": [
       {
        "ename": "NameError",
        "evalue": "name 'a' is not defined",
        "output_type": "error",
        "traceback": [
         "\u001b[0;31m---------------------------------------------------------------------------\u001b[0m",
         "\u001b[0;31mNameError\u001b[0m                                 Traceback (most recent call last)",
         "\u001b[0;32m/tmp/ipykernel_6436/1834637975.py\u001b[0m in \u001b[0;36m<module>\u001b[0;34m\u001b[0m\n\u001b[1;32m      1\u001b[0m d = {\n\u001b[0;32m----> 2\u001b[0;31m     \u001b[0ma\u001b[0m\u001b[0;34m:\u001b[0m \u001b[0mA\u001b[0m\u001b[0;34m,\u001b[0m\u001b[0;34m\u001b[0m\u001b[0;34m\u001b[0m\u001b[0m\n\u001b[0m\u001b[1;32m      3\u001b[0m     \u001b[0mb\u001b[0m\u001b[0;34m:\u001b[0m \u001b[0mB\u001b[0m\u001b[0;34m,\u001b[0m\u001b[0;34m\u001b[0m\u001b[0;34m\u001b[0m\u001b[0m\n\u001b[1;32m      4\u001b[0m     \u001b[0mc\u001b[0m\u001b[0;34m:\u001b[0m \u001b[0mC\u001b[0m\u001b[0;34m\u001b[0m\u001b[0;34m\u001b[0m\u001b[0m\n\u001b[1;32m      5\u001b[0m }\n",
         "\u001b[0;31mNameError\u001b[0m: name 'a' is not defined"
        ]
       }
      ],
      "source": "d = {\n    a: A,\n    b: B,\n    c: C\n}",
      "start_time": "2022-02-16T00:49:45.605Z"
     },
     {
      "end_time": "2022-02-16T00:50:07.451Z",
      "execution_time": "16ms",
      "outputs": [
       {
        "ename": "NameError",
        "evalue": "name 'A' is not defined",
        "output_type": "error",
        "traceback": [
         "\u001b[0;31m---------------------------------------------------------------------------\u001b[0m",
         "\u001b[0;31mNameError\u001b[0m                                 Traceback (most recent call last)",
         "\u001b[0;32m/tmp/ipykernel_6436/35991435.py\u001b[0m in \u001b[0;36m<module>\u001b[0;34m\u001b[0m\n\u001b[1;32m      1\u001b[0m d = {\n\u001b[0;32m----> 2\u001b[0;31m     \u001b[0;34m\"a\"\u001b[0m\u001b[0;34m:\u001b[0m \u001b[0mA\u001b[0m\u001b[0;34m,\u001b[0m\u001b[0;34m\u001b[0m\u001b[0;34m\u001b[0m\u001b[0m\n\u001b[0m\u001b[1;32m      3\u001b[0m     \u001b[0mb\u001b[0m\u001b[0;34m:\u001b[0m \u001b[0mB\u001b[0m\u001b[0;34m,\u001b[0m\u001b[0;34m\u001b[0m\u001b[0;34m\u001b[0m\u001b[0m\n\u001b[1;32m      4\u001b[0m     \u001b[0mc\u001b[0m\u001b[0;34m:\u001b[0m \u001b[0mC\u001b[0m\u001b[0;34m\u001b[0m\u001b[0;34m\u001b[0m\u001b[0m\n\u001b[1;32m      5\u001b[0m }\n",
         "\u001b[0;31mNameError\u001b[0m: name 'A' is not defined"
        ]
       }
      ],
      "source": "d = {\n    \"a\": A,\n    b: B,\n    c: C\n}",
      "start_time": "2022-02-16T00:50:07.435Z"
     },
     {
      "end_time": "2022-02-16T00:50:15.110Z",
      "execution_time": "16ms",
      "outputs": [
       {
        "ename": "NameError",
        "evalue": "name 'b' is not defined",
        "output_type": "error",
        "traceback": [
         "\u001b[0;31m---------------------------------------------------------------------------\u001b[0m",
         "\u001b[0;31mNameError\u001b[0m                                 Traceback (most recent call last)",
         "\u001b[0;32m/tmp/ipykernel_6436/1844401169.py\u001b[0m in \u001b[0;36m<module>\u001b[0;34m\u001b[0m\n\u001b[1;32m      1\u001b[0m d = {\n\u001b[1;32m      2\u001b[0m     \u001b[0;34m\"a\"\u001b[0m\u001b[0;34m:\u001b[0m \u001b[0;34m\"A\"\u001b[0m\u001b[0;34m,\u001b[0m\u001b[0;34m\u001b[0m\u001b[0;34m\u001b[0m\u001b[0m\n\u001b[0;32m----> 3\u001b[0;31m     \u001b[0mb\u001b[0m\u001b[0;34m:\u001b[0m \u001b[0mB\u001b[0m\u001b[0;34m,\u001b[0m\u001b[0;34m\u001b[0m\u001b[0;34m\u001b[0m\u001b[0m\n\u001b[0m\u001b[1;32m      4\u001b[0m     \u001b[0mc\u001b[0m\u001b[0;34m:\u001b[0m \u001b[0mC\u001b[0m\u001b[0;34m\u001b[0m\u001b[0;34m\u001b[0m\u001b[0m\n\u001b[1;32m      5\u001b[0m }\n",
         "\u001b[0;31mNameError\u001b[0m: name 'b' is not defined"
        ]
       }
      ],
      "source": "d = {\n    \"a\": \"A\",\n    b: B,\n    c: C\n}",
      "start_time": "2022-02-16T00:50:15.094Z"
     },
     {
      "end_time": "2022-02-16T00:52:43.099Z",
      "execution_time": "7ms",
      "outputs": [],
      "source": "MLB_team = dict(\n    Colorado='Rockies',\n     Boston='Red Sox',\n    Minnesota='Twins',\n    Milwaukee='Brewers',\n    Seattle='Mariners'\n)",
      "start_time": "2022-02-16T00:52:43.092Z"
     },
     {
      "end_time": "2022-02-17T11:57:42.552Z",
      "execution_time": "11ms",
      "outputs": [],
      "source": "MLB_team = dict(\n    Colorado='Rockies',\n     Boston='Red Sox',\n    Minnesota='Twins',\n    Milwaukee='Brewers',\n    Seattle='Mariners'\n)",
      "start_time": "2022-02-17T11:57:42.541Z"
     },
     {
      "end_time": "2022-02-17T12:01:38.978Z",
      "execution_time": "6ms",
      "outputs": [],
      "source": "MLB_team = dict(\n    Colorado='Rockies',\n     Boston='Red Sox',\n    Minnesota='Twins',\n    Milwaukee='Brewers',\n    Seattle='Mariners'\n)",
      "start_time": "2022-02-17T12:01:38.972Z"
     },
     {
      "end_time": "2022-02-17T12:13:51.626Z",
      "execution_time": "14ms",
      "outputs": [],
      "source": "MLB_team = dict(\n    Colorado='Rockies',\n     Boston='Red Sox',\n    Minnesota='Twins',\n    Milwaukee='Brewers',\n    Seattle='Mariners'\n)",
      "start_time": "2022-02-17T12:13:51.612Z"
     },
     {
      "end_time": "2022-02-17T12:19:04.133Z",
      "execution_time": "6ms",
      "outputs": [],
      "source": "MLB_team = dict(\n    Colorado='Rockies',\n     Boston='Red Sox',\n    Minnesota='Twins',\n    Milwaukee='Brewers',\n    Seattle='Mariners'\n)",
      "start_time": "2022-02-17T12:19:04.127Z"
     }
    ]
   },
   "outputs": [],
   "source": [
    "MLB_team = dict(\n",
    "    Colorado='Rockies',\n",
    "     Boston='Red Sox',\n",
    "    Minnesota='Twins',\n",
    "    Milwaukee='Brewers',\n",
    "    Seattle='Mariners'\n",
    ")"
   ]
  },
  {
   "cell_type": "code",
   "execution_count": 7,
   "id": "5a443c64",
   "metadata": {
    "ExecutionTime": {
     "end_time": "2022-02-17T12:19:05.065486Z",
     "start_time": "2022-02-17T12:19:05.059909Z"
    },
    "provenance": [
     {
      "end_time": "2022-02-16T00:53:00.356Z",
      "execution_time": "8ms",
      "outputs": [
       {
        "name": "stdout",
        "output_type": "stream",
        "text": "{'Colorado': 'Rockies', 'Boston': 'Red Sox', 'Minnesota': 'Twins', 'Milwaukee': 'Brewers', 'Seattle': 'Mariners'}\n"
       }
      ],
      "source": "print(MLB_team)",
      "start_time": "2022-02-16T00:53:00.348Z"
     },
     {
      "end_time": "2022-02-17T11:57:43.764Z",
      "execution_time": "6ms",
      "outputs": [
       {
        "name": "stdout",
        "output_type": "stream",
        "text": "{'Colorado': 'Rockies', 'Boston': 'Red Sox', 'Minnesota': 'Twins', 'Milwaukee': 'Brewers', 'Seattle': 'Mariners'}\n"
       }
      ],
      "source": "print(MLB_team)",
      "start_time": "2022-02-17T11:57:43.758Z"
     },
     {
      "end_time": "2022-02-17T12:01:39.682Z",
      "execution_time": "5ms",
      "outputs": [
       {
        "name": "stdout",
        "output_type": "stream",
        "text": "{'Colorado': 'Rockies', 'Boston': 'Red Sox', 'Minnesota': 'Twins', 'Milwaukee': 'Brewers', 'Seattle': 'Mariners'}\n"
       }
      ],
      "source": "print(MLB_team)",
      "start_time": "2022-02-17T12:01:39.677Z"
     },
     {
      "end_time": "2022-02-17T12:13:52.169Z",
      "execution_time": "8ms",
      "outputs": [
       {
        "name": "stdout",
        "output_type": "stream",
        "text": "{'Colorado': 'Rockies', 'Boston': 'Red Sox', 'Minnesota': 'Twins', 'Milwaukee': 'Brewers', 'Seattle': 'Mariners'}\n"
       }
      ],
      "source": "print(MLB_team)",
      "start_time": "2022-02-17T12:13:52.161Z"
     },
     {
      "end_time": "2022-02-17T12:19:05.065Z",
      "execution_time": "6ms",
      "outputs": [
       {
        "name": "stdout",
        "output_type": "stream",
        "text": "{'Colorado': 'Rockies', 'Boston': 'Red Sox', 'Minnesota': 'Twins', 'Milwaukee': 'Brewers', 'Seattle': 'Mariners'}\n"
       }
      ],
      "source": "print(MLB_team)",
      "start_time": "2022-02-17T12:19:05.059Z"
     }
    ]
   },
   "outputs": [
    {
     "name": "stdout",
     "output_type": "stream",
     "text": [
      "{'Colorado': 'Rockies', 'Boston': 'Red Sox', 'Minnesota': 'Twins', 'Milwaukee': 'Brewers', 'Seattle': 'Mariners'}\n"
     ]
    }
   ],
   "source": [
    "print(MLB_team)"
   ]
  },
  {
   "cell_type": "code",
   "execution_count": 9,
   "id": "0f35330a",
   "metadata": {
    "ExecutionTime": {
     "end_time": "2022-02-17T12:21:03.854115Z",
     "start_time": "2022-02-17T12:21:03.847055Z"
    },
    "provenance": [
     {
      "end_time": "2022-02-16T00:53:55.627Z",
      "execution_time": "12ms",
      "outputs": [
       {
        "ename": "SyntaxError",
        "evalue": "invalid syntax (2636424433.py, line 3)",
        "output_type": "error",
        "traceback": [
         "\u001b[0;36m  File \u001b[0;32m\"/tmp/ipykernel_6436/2636424433.py\"\u001b[0;36m, line \u001b[0;32m3\u001b[0m\n\u001b[0;31m    print(\"<td><button id=\"+'\"'+i+'\"'+\">\"key\"</button> <div id=\"'\"'\"word\"+i+'\"'\"> </div> <script>document.getElementById(\"+'\"'+i+'\"'+\").onclick = function (){document.getElementById(\"'\"'\"word\"+i+'\"'\").innerHTML = \"value\"}</script></td>\")\u001b[0m\n\u001b[0m                                         ^\u001b[0m\n\u001b[0;31mSyntaxError\u001b[0m\u001b[0;31m:\u001b[0m invalid syntax\n"
        ]
       }
      ],
      "source": "for i, key, value in MLB_team in range (1,6):\n    i = str(i)\n    print(\"<td><button id=\"+'\"'+i+'\"'+\">\"key\"</button> <div id=\"'\"'\"word\"+i+'\"'\"> </div> <script>document.getElementById(\"+'\"'+i+'\"'+\").onclick = function (){document.getElementById(\"'\"'\"word\"+i+'\"'\").innerHTML = \"value\"}</script></td>\")",
      "start_time": "2022-02-16T00:53:55.615Z"
     },
     {
      "end_time": "2022-02-16T00:54:25.931Z",
      "execution_time": "13ms",
      "outputs": [
       {
        "ename": "TypeError",
        "evalue": "'bool' object is not iterable",
        "output_type": "error",
        "traceback": [
         "\u001b[0;31m---------------------------------------------------------------------------\u001b[0m",
         "\u001b[0;31mTypeError\u001b[0m                                 Traceback (most recent call last)",
         "\u001b[0;32m/tmp/ipykernel_6436/3439591095.py\u001b[0m in \u001b[0;36m<module>\u001b[0;34m\u001b[0m\n\u001b[0;32m----> 1\u001b[0;31m \u001b[0;32mfor\u001b[0m \u001b[0mi\u001b[0m\u001b[0;34m,\u001b[0m \u001b[0mkey\u001b[0m\u001b[0;34m,\u001b[0m \u001b[0mvalue\u001b[0m \u001b[0;32min\u001b[0m \u001b[0mMLB_team\u001b[0m \u001b[0;32min\u001b[0m \u001b[0mrange\u001b[0m \u001b[0;34m(\u001b[0m\u001b[0;36m1\u001b[0m\u001b[0;34m,\u001b[0m\u001b[0;36m6\u001b[0m\u001b[0;34m)\u001b[0m\u001b[0;34m:\u001b[0m\u001b[0;34m\u001b[0m\u001b[0;34m\u001b[0m\u001b[0m\n\u001b[0m\u001b[1;32m      2\u001b[0m     \u001b[0mi\u001b[0m \u001b[0;34m=\u001b[0m \u001b[0mstr\u001b[0m\u001b[0;34m(\u001b[0m\u001b[0mi\u001b[0m\u001b[0;34m)\u001b[0m\u001b[0;34m\u001b[0m\u001b[0;34m\u001b[0m\u001b[0m\n\u001b[1;32m      3\u001b[0m     \u001b[0mprint\u001b[0m\u001b[0;34m(\u001b[0m\u001b[0;34m\"<td><button id=\"\u001b[0m\u001b[0;34m+\u001b[0m\u001b[0;34m'\"'\u001b[0m\u001b[0;34m+\u001b[0m\u001b[0mi\u001b[0m\u001b[0;34m+\u001b[0m\u001b[0;34m'\"'\u001b[0m\u001b[0;34m+\u001b[0m\u001b[0;34m\">key</button> <div id=\"\u001b[0m\u001b[0;34m'\"'\u001b[0m\u001b[0;34m\"word\"\u001b[0m\u001b[0;34m+\u001b[0m\u001b[0mi\u001b[0m\u001b[0;34m+\u001b[0m\u001b[0;34m'\"'\u001b[0m\u001b[0;34m\"> </div> <script>document.getElementById(\"\u001b[0m\u001b[0;34m+\u001b[0m\u001b[0;34m'\"'\u001b[0m\u001b[0;34m+\u001b[0m\u001b[0mi\u001b[0m\u001b[0;34m+\u001b[0m\u001b[0;34m'\"'\u001b[0m\u001b[0;34m+\u001b[0m\u001b[0;34m\").onclick = function (){document.getElementById(\"\u001b[0m\u001b[0;34m'\"'\u001b[0m\u001b[0;34m\"word\"\u001b[0m\u001b[0;34m+\u001b[0m\u001b[0mi\u001b[0m\u001b[0;34m+\u001b[0m\u001b[0;34m'\"'\u001b[0m\u001b[0;34m\").innerHTML = value}</script></td>\"\u001b[0m\u001b[0;34m)\u001b[0m\u001b[0;34m\u001b[0m\u001b[0;34m\u001b[0m\u001b[0m\n",
         "\u001b[0;31mTypeError\u001b[0m: 'bool' object is not iterable"
        ]
       }
      ],
      "source": "for i, key, value in MLB_team in range (1,6):\n    i = str(i)\n    print(\"<td><button id=\"+'\"'+i+'\"'+\">key</button> <div id=\"'\"'\"word\"+i+'\"'\"> </div> <script>document.getElementById(\"+'\"'+i+'\"'+\").onclick = function (){document.getElementById(\"'\"'\"word\"+i+'\"'\").innerHTML = value}</script></td>\")",
      "start_time": "2022-02-16T00:54:25.918Z"
     },
     {
      "end_time": "2022-02-16T00:57:17.709Z",
      "execution_time": "15ms",
      "outputs": [
       {
        "ename": "NameError",
        "evalue": "name 'i' is not defined",
        "output_type": "error",
        "traceback": [
         "\u001b[0;31m---------------------------------------------------------------------------\u001b[0m",
         "\u001b[0;31mNameError\u001b[0m                                 Traceback (most recent call last)",
         "\u001b[0;32m/tmp/ipykernel_6436/200645722.py\u001b[0m in \u001b[0;36m<module>\u001b[0;34m\u001b[0m\n\u001b[1;32m      1\u001b[0m \u001b[0;32mfor\u001b[0m \u001b[0mkey\u001b[0m\u001b[0;34m,\u001b[0m \u001b[0mvalue\u001b[0m \u001b[0;32min\u001b[0m \u001b[0mMLB_team\u001b[0m\u001b[0;34m.\u001b[0m\u001b[0mitems\u001b[0m\u001b[0;34m(\u001b[0m\u001b[0;34m)\u001b[0m\u001b[0;34m:\u001b[0m\u001b[0;34m\u001b[0m\u001b[0;34m\u001b[0m\u001b[0m\n\u001b[0;32m----> 2\u001b[0;31m     \u001b[0mi\u001b[0m \u001b[0;34m=\u001b[0m \u001b[0mstr\u001b[0m\u001b[0;34m(\u001b[0m\u001b[0mi\u001b[0m\u001b[0;34m)\u001b[0m\u001b[0;34m\u001b[0m\u001b[0;34m\u001b[0m\u001b[0m\n\u001b[0m\u001b[1;32m      3\u001b[0m     \u001b[0mprint\u001b[0m\u001b[0;34m(\u001b[0m\u001b[0;34m\"<td><button id=\"\u001b[0m\u001b[0;34m+\u001b[0m\u001b[0;34m'\"'\u001b[0m\u001b[0;34m+\u001b[0m\u001b[0mkey\u001b[0m\u001b[0;34m+\u001b[0m\u001b[0;34m'\"'\u001b[0m\u001b[0;34m+\u001b[0m\u001b[0;34m\">key</button> <div id=\"\u001b[0m\u001b[0;34m'\"'\u001b[0m\u001b[0;34m\"word\"\u001b[0m\u001b[0;34m+\u001b[0m\u001b[0mvalue\u001b[0m\u001b[0;34m+\u001b[0m\u001b[0;34m'\"'\u001b[0m\u001b[0;34m\"> </div> <script>document.getElementById(\"\u001b[0m\u001b[0;34m+\u001b[0m\u001b[0;34m'\"'\u001b[0m\u001b[0;34m+\u001b[0m\u001b[0mvalue\u001b[0m\u001b[0;34m+\u001b[0m\u001b[0;34m'\"'\u001b[0m\u001b[0;34m+\u001b[0m\u001b[0;34m\").onclick = function (){document.getElementById(\"\u001b[0m\u001b[0;34m'\"'\u001b[0m\u001b[0;34m\"word\"\u001b[0m\u001b[0;34m+\u001b[0m\u001b[0mvalue\u001b[0m\u001b[0;34m+\u001b[0m\u001b[0;34m'\"'\u001b[0m\u001b[0;34m\").innerHTML = value}</script></td>\"\u001b[0m\u001b[0;34m)\u001b[0m\u001b[0;34m\u001b[0m\u001b[0;34m\u001b[0m\u001b[0m\n",
         "\u001b[0;31mNameError\u001b[0m: name 'i' is not defined"
        ]
       }
      ],
      "source": "for key, value in MLB_team.items():\n    i = str(i)\n    print(\"<td><button id=\"+'\"'+key+'\"'+\">key</button> <div id=\"'\"'\"word\"+value+'\"'\"> </div> <script>document.getElementById(\"+'\"'+value+'\"'+\").onclick = function (){document.getElementById(\"'\"'\"word\"+value+'\"'\").innerHTML = value}</script></td>\")",
      "start_time": "2022-02-16T00:57:17.694Z"
     },
     {
      "end_time": "2022-02-16T00:57:28.640Z",
      "execution_time": "12ms",
      "outputs": [
       {
        "name": "stdout",
        "output_type": "stream",
        "text": "<td><button id=\"Colorado\">key</button> <div id=\"wordRockies\"> </div> <script>document.getElementById(\"Rockies\").onclick = function (){document.getElementById(\"wordRockies\").innerHTML = value}</script></td>\n<td><button id=\"Boston\">key</button> <div id=\"wordRed Sox\"> </div> <script>document.getElementById(\"Red Sox\").onclick = function (){document.getElementById(\"wordRed Sox\").innerHTML = value}</script></td>\n<td><button id=\"Minnesota\">key</button> <div id=\"wordTwins\"> </div> <script>document.getElementById(\"Twins\").onclick = function (){document.getElementById(\"wordTwins\").innerHTML = value}</script></td>\n<td><button id=\"Milwaukee\">key</button> <div id=\"wordBrewers\"> </div> <script>document.getElementById(\"Brewers\").onclick = function (){document.getElementById(\"wordBrewers\").innerHTML = value}</script></td>\n<td><button id=\"Seattle\">key</button> <div id=\"wordMariners\"> </div> <script>document.getElementById(\"Mariners\").onclick = function (){document.getElementById(\"wordMariners\").innerHTML = value}</script></td>\n"
       }
      ],
      "source": "for key, value in MLB_team.items():\n    print(\"<td><button id=\"+'\"'+key+'\"'+\">key</button> <div id=\"'\"'\"word\"+value+'\"'\"> </div> <script>document.getElementById(\"+'\"'+value+'\"'+\").onclick = function (){document.getElementById(\"'\"'\"word\"+value+'\"'\").innerHTML = value}</script></td>\")",
      "start_time": "2022-02-16T00:57:28.628Z"
     },
     {
      "end_time": "2022-02-17T11:57:45.614Z",
      "execution_time": "7ms",
      "outputs": [
       {
        "ename": "SyntaxError",
        "evalue": "invalid syntax (30121647.py, line 2)",
        "output_type": "error",
        "traceback": [
         "\u001b[0;36m  File \u001b[0;32m\"/tmp/ipykernel_41683/30121647.py\"\u001b[0;36m, line \u001b[0;32m2\u001b[0m\n\u001b[0;31m    print(\"<td><button id=\"+'\"'+key+'\"'+\">\"key\"</button> <div id=\"'\"'\"word\"+value+'\"'\"> </div> <script>document.getElementById(\"+'\"'+value+'\"'+\").onclick = function (){document.getElementById(\"'\"'\"word\"+value+'\"'\").innerHTML = \"value\"}</script></td>\")\u001b[0m\n\u001b[0m                                           ^\u001b[0m\n\u001b[0;31mSyntaxError\u001b[0m\u001b[0;31m:\u001b[0m invalid syntax\n"
        ]
       }
      ],
      "source": "for key, value in MLB_team.items():\n    print(\"<td><button id=\"+'\"'+key+'\"'+\">\"key\"</button> <div id=\"'\"'\"word\"+value+'\"'\"> </div> <script>document.getElementById(\"+'\"'+value+'\"'+\").onclick = function (){document.getElementById(\"'\"'\"word\"+value+'\"'\").innerHTML = \"value\"}</script></td>\")",
      "start_time": "2022-02-17T11:57:45.607Z"
     },
     {
      "end_time": "2022-02-17T12:01:40.732Z",
      "execution_time": "13ms",
      "outputs": [
       {
        "name": "stdout",
        "output_type": "stream",
        "text": "<td><button id=\"Colorado\">Colorado</button> <div id=\"wordRockies\"> </div> <script>document.getElementById(\"Rockies\").onclick = function (){document.getElementById(\"wordRockies\").innerHTML = Rockies}</script></td>\n<td><button id=\"Boston\">Boston</button> <div id=\"wordRed Sox\"> </div> <script>document.getElementById(\"Red Sox\").onclick = function (){document.getElementById(\"wordRed Sox\").innerHTML = Red Sox}</script></td>\n<td><button id=\"Minnesota\">Minnesota</button> <div id=\"wordTwins\"> </div> <script>document.getElementById(\"Twins\").onclick = function (){document.getElementById(\"wordTwins\").innerHTML = Twins}</script></td>\n<td><button id=\"Milwaukee\">Milwaukee</button> <div id=\"wordBrewers\"> </div> <script>document.getElementById(\"Brewers\").onclick = function (){document.getElementById(\"wordBrewers\").innerHTML = Brewers}</script></td>\n<td><button id=\"Seattle\">Seattle</button> <div id=\"wordMariners\"> </div> <script>document.getElementById(\"Mariners\").onclick = function (){document.getElementById(\"wordMariners\").innerHTML = Mariners}</script></td>\n"
       }
      ],
      "source": "for key, value in MLB_team.items():\n    print(\"<td><button id=\"+'\"'+key+'\"'+\">\"+key+\"</button> <div id=\"'\"'\"word\"+value+'\"'\"> </div> <script>document.getElementById(\"+'\"'+value+'\"'+\").onclick = function (){document.getElementById(\"'\"'\"word\"+value+'\"'\").innerHTML = \"+value+\"}</script></td>\") \n",
      "start_time": "2022-02-17T12:01:40.719Z"
     },
     {
      "end_time": "2022-02-17T12:13:52.870Z",
      "execution_time": "9ms",
      "outputs": [
       {
        "name": "stdout",
        "output_type": "stream",
        "text": "<td><button id=\"Colorado\">Colorado</button> <div id=\"wordRockies\"> </div> <script>document.getElementById(\"Colorado\").onclick = function (){document.getElementById(\"wordRockies\").innerHTML = Rockies}</script></td>\n<td><button id=\"Boston\">Boston</button> <div id=\"wordRed Sox\"> </div> <script>document.getElementById(\"Boston\").onclick = function (){document.getElementById(\"wordRed Sox\").innerHTML = Red Sox}</script></td>\n<td><button id=\"Minnesota\">Minnesota</button> <div id=\"wordTwins\"> </div> <script>document.getElementById(\"Minnesota\").onclick = function (){document.getElementById(\"wordTwins\").innerHTML = Twins}</script></td>\n<td><button id=\"Milwaukee\">Milwaukee</button> <div id=\"wordBrewers\"> </div> <script>document.getElementById(\"Milwaukee\").onclick = function (){document.getElementById(\"wordBrewers\").innerHTML = Brewers}</script></td>\n<td><button id=\"Seattle\">Seattle</button> <div id=\"wordMariners\"> </div> <script>document.getElementById(\"Seattle\").onclick = function (){document.getElementById(\"wordMariners\").innerHTML = Mariners}</script></td>\n"
       }
      ],
      "source": "for key, value in MLB_team.items():\n    print(\"<td><button id=\"+'\"'+key+'\"'+\">\"+key+\"</button> <div id=\"'\"'\"word\"+value+'\"'\"> </div> <script>document.getElementById(\"+'\"'+key+'\"'+\").onclick = function (){document.getElementById(\"'\"'\"word\"+value+'\"'\").innerHTML = \"+value+\"}</script></td>\") \n",
      "start_time": "2022-02-17T12:13:52.861Z"
     },
     {
      "end_time": "2022-02-17T12:17:19.822Z",
      "execution_time": "10ms",
      "outputs": [
       {
        "name": "stdout",
        "output_type": "stream",
        "text": "<td><button id=\"Colorado\">Colorado</button> <div id=\"wordRockies\"> </div> <script>document.getElementById(\"Colorado\").onclick = function (){document.getElementById(\"wordRockies\").innerHTML = \"\"Rockies''}</script></td>\n<td><button id=\"Boston\">Boston</button> <div id=\"wordRed Sox\"> </div> <script>document.getElementById(\"Boston\").onclick = function (){document.getElementById(\"wordRed Sox\").innerHTML = \"\"Red Sox''}</script></td>\n<td><button id=\"Minnesota\">Minnesota</button> <div id=\"wordTwins\"> </div> <script>document.getElementById(\"Minnesota\").onclick = function (){document.getElementById(\"wordTwins\").innerHTML = \"\"Twins''}</script></td>\n<td><button id=\"Milwaukee\">Milwaukee</button> <div id=\"wordBrewers\"> </div> <script>document.getElementById(\"Milwaukee\").onclick = function (){document.getElementById(\"wordBrewers\").innerHTML = \"\"Brewers''}</script></td>\n<td><button id=\"Seattle\">Seattle</button> <div id=\"wordMariners\"> </div> <script>document.getElementById(\"Seattle\").onclick = function (){document.getElementById(\"wordMariners\").innerHTML = \"\"Mariners''}</script></td>\n"
       }
      ],
      "source": "for key, value in MLB_team.items():\n    print(\"<td><button id=\"+'\"'+key+'\"'+\">\"+key+\"</button> <div id=\"'\"'\"word\"+value+'\"'\"> </div> <script>document.getElementById(\"+'\"'+key+'\"'+\").onclick = function (){document.getElementById(\"'\"'\"word\"+value+'\"'\").innerHTML = \"'\"\"'+value+\"'\"''\"'}</script></td>\") \n",
      "start_time": "2022-02-17T12:17:19.812Z"
     },
     {
      "end_time": "2022-02-17T12:18:57.883Z",
      "execution_time": "12ms",
      "outputs": [
       {
        "ename": "SyntaxError",
        "evalue": "EOL while scanning string literal (3082004173.py, line 2)",
        "output_type": "error",
        "traceback": [
         "\u001b[0;36m  File \u001b[0;32m\"/tmp/ipykernel_43790/3082004173.py\"\u001b[0;36m, line \u001b[0;32m2\u001b[0m\n\u001b[0;31m    print(\"<td><button id=\"+'\"'+key+'\"'+\">\"+key+\"</button> <div id=\"'\"'\"word\"+value+'\"'\"> </div> <script>document.getElementById(\"+'\"'+key+'\"'+\").onclick = function (){document.getElementById(\"'\"'\"word\"+value+'\"'\").innerHTML = \"'\"\"'+value+\"'\"'}</script></td>\")\u001b[0m\n\u001b[0m                                                                                                                                                                                                                                                                     ^\u001b[0m\n\u001b[0;31mSyntaxError\u001b[0m\u001b[0;31m:\u001b[0m EOL while scanning string literal\n"
        ]
       }
      ],
      "source": "for key, value in MLB_team.items():\n    print(\"<td><button id=\"+'\"'+key+'\"'+\">\"+key+\"</button> <div id=\"'\"'\"word\"+value+'\"'\"> </div> <script>document.getElementById(\"+'\"'+key+'\"'+\").onclick = function (){document.getElementById(\"'\"'\"word\"+value+'\"'\").innerHTML = \"'\"\"'+value+\"'\"'}</script></td>\") \n",
      "start_time": "2022-02-17T12:18:57.871Z"
     },
     {
      "end_time": "2022-02-17T12:19:05.700Z",
      "execution_time": "14ms",
      "outputs": [
       {
        "ename": "SyntaxError",
        "evalue": "EOL while scanning string literal (3082004173.py, line 2)",
        "output_type": "error",
        "traceback": [
         "\u001b[0;36m  File \u001b[0;32m\"/tmp/ipykernel_43790/3082004173.py\"\u001b[0;36m, line \u001b[0;32m2\u001b[0m\n\u001b[0;31m    print(\"<td><button id=\"+'\"'+key+'\"'+\">\"+key+\"</button> <div id=\"'\"'\"word\"+value+'\"'\"> </div> <script>document.getElementById(\"+'\"'+key+'\"'+\").onclick = function (){document.getElementById(\"'\"'\"word\"+value+'\"'\").innerHTML = \"'\"\"'+value+\"'\"'}</script></td>\")\u001b[0m\n\u001b[0m                                                                                                                                                                                                                                                                     ^\u001b[0m\n\u001b[0;31mSyntaxError\u001b[0m\u001b[0;31m:\u001b[0m EOL while scanning string literal\n"
        ]
       }
      ],
      "source": "for key, value in MLB_team.items():\n    print(\"<td><button id=\"+'\"'+key+'\"'+\">\"+key+\"</button> <div id=\"'\"'\"word\"+value+'\"'\"> </div> <script>document.getElementById(\"+'\"'+key+'\"'+\").onclick = function (){document.getElementById(\"'\"'\"word\"+value+'\"'\").innerHTML = \"'\"\"'+value+\"'\"'}</script></td>\") \n",
      "start_time": "2022-02-17T12:19:05.686Z"
     },
     {
      "end_time": "2022-02-17T12:21:03.854Z",
      "execution_time": "7ms",
      "outputs": [
       {
        "name": "stdout",
        "output_type": "stream",
        "text": "<td><button id=\"Colorado\">Colorado</button> <div id=\"wordRockies\"> </div> <script>document.getElementById(\"Colorado\").onclick = function (){document.getElementById(\"wordRockies\").innerHTML = \"Rockies\"}</script></td>\n<td><button id=\"Boston\">Boston</button> <div id=\"wordRed Sox\"> </div> <script>document.getElementById(\"Boston\").onclick = function (){document.getElementById(\"wordRed Sox\").innerHTML = \"Red Sox\"}</script></td>\n<td><button id=\"Minnesota\">Minnesota</button> <div id=\"wordTwins\"> </div> <script>document.getElementById(\"Minnesota\").onclick = function (){document.getElementById(\"wordTwins\").innerHTML = \"Twins\"}</script></td>\n<td><button id=\"Milwaukee\">Milwaukee</button> <div id=\"wordBrewers\"> </div> <script>document.getElementById(\"Milwaukee\").onclick = function (){document.getElementById(\"wordBrewers\").innerHTML = \"Brewers\"}</script></td>\n<td><button id=\"Seattle\">Seattle</button> <div id=\"wordMariners\"> </div> <script>document.getElementById(\"Seattle\").onclick = function (){document.getElementById(\"wordMariners\").innerHTML = \"Mariners\"}</script></td>\n"
       }
      ],
      "source": "for key, value in MLB_team.items():\n    print(\"<td><button id=\"+'\"'+key+'\"'+\">\"+key+\"</button> <div id=\"'\"'\"word\"+value+'\"'\"> </div> <script>document.getElementById(\"+'\"'+key+'\"'+\").onclick = function (){document.getElementById(\"'\"'\"word\"+value+'\"'\").innerHTML = \"'\"'+value+'\"'\"}</script></td>\") \n",
      "start_time": "2022-02-17T12:21:03.847Z"
     }
    ]
   },
   "outputs": [
    {
     "name": "stdout",
     "output_type": "stream",
     "text": [
      "<td><button id=\"Colorado\">Colorado</button> <div id=\"wordRockies\"> </div> <script>document.getElementById(\"Colorado\").onclick = function (){document.getElementById(\"wordRockies\").innerHTML = \"Rockies\"}</script></td>\n",
      "<td><button id=\"Boston\">Boston</button> <div id=\"wordRed Sox\"> </div> <script>document.getElementById(\"Boston\").onclick = function (){document.getElementById(\"wordRed Sox\").innerHTML = \"Red Sox\"}</script></td>\n",
      "<td><button id=\"Minnesota\">Minnesota</button> <div id=\"wordTwins\"> </div> <script>document.getElementById(\"Minnesota\").onclick = function (){document.getElementById(\"wordTwins\").innerHTML = \"Twins\"}</script></td>\n",
      "<td><button id=\"Milwaukee\">Milwaukee</button> <div id=\"wordBrewers\"> </div> <script>document.getElementById(\"Milwaukee\").onclick = function (){document.getElementById(\"wordBrewers\").innerHTML = \"Brewers\"}</script></td>\n",
      "<td><button id=\"Seattle\">Seattle</button> <div id=\"wordMariners\"> </div> <script>document.getElementById(\"Seattle\").onclick = function (){document.getElementById(\"wordMariners\").innerHTML = \"Mariners\"}</script></td>\n"
     ]
    }
   ],
   "source": [
    "for key, value in MLB_team.items():\n",
    "    print(\"<td><button id=\"+'\"'+key+'\"'+\">\"+key+\"</button> <div id=\"'\"'\"word\"+value+'\"'\"> </div> <script>document.getElementById(\"+'\"'+key+'\"'+\").onclick = function (){document.getElementById(\"'\"'\"word\"+value+'\"'\").innerHTML = \"'\"'+value+'\"'\"}</script></td>\") \n"
   ]
  },
  {
   "cell_type": "code",
   "execution_count": null,
   "id": "46545cd4",
   "metadata": {
    "provenance": [
     {
      "end_time": "Unknown",
      "execution_time": "Unknown",
      "outputs": [],
      "source": "",
      "start_time": "Unknown"
     }
    ]
   },
   "outputs": [],
   "source": [
    "MLC_team = dict(\n",
    "    Color='Rocs',\n",
    "     Bton='Reox',\n",
    "    Minnesota='Twins',\n",
    "    Milwaukee='Brewers',\n",
    "    Seattle='Mariners'\n",
    ")"
   ]
  },
  {
   "cell_type": "code",
   "execution_count": null,
   "id": "6fc75a90",
   "metadata": {},
   "outputs": [],
   "source": [
    "for key, value in MLC_team.items():\n",
    "    print(\"<td><button id=\"+'\"'+key+'\"'+\">\"+key+\"</button> <div id=\"'\"'\"word\"+value+'\"'\"> </div> <script>document.getElementById(\"+'\"'+key+'\"'+\").onclick = function (){document.getElementById(\"'\"'\"word\"+value+'\"'\").innerHTML = \"'\"'+value+'\"'\"}</script></td>\") \n"
   ]
  },
  {
   "cell_type": "code",
   "execution_count": null,
   "id": "0d24e999",
   "metadata": {},
   "outputs": [],
   "source": []
  },
  {
   "cell_type": "code",
   "execution_count": null,
   "id": "dd158cb6",
   "metadata": {},
   "outputs": [],
   "source": []
  }
 ],
 "metadata": {
  "kernelspec": {
   "display_name": "Python 3 (ipykernel)",
   "language": "python",
   "name": "python3"
  },
  "language_info": {
   "codemirror_mode": {
    "name": "ipython",
    "version": 3
   },
   "file_extension": ".py",
   "mimetype": "text/x-python",
   "name": "python",
   "nbconvert_exporter": "python",
   "pygments_lexer": "ipython3",
   "version": "3.8.8"
  }
 },
 "nbformat": 4,
 "nbformat_minor": 5
}
